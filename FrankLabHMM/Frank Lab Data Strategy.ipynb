{
 "cells": [
  {
   "cell_type": "markdown",
   "metadata": {},
   "source": [
    "**HMM Analysis Process:**\n",
    "  1. Translate data from MATLAB to python objects\n",
    "     - Original thought - Organize in directory structure a la HDF5, but actually directories?\n",
    "     - New thought: Write each animal as an HDF5 file (maybe easiest b/c only 2-5 GB per animal and HDF5 load can parse file)\n",
    "     - What are all the data types?\n",
    "         - CellInfo\n",
    "         - Task\n",
    "         - TetInfo\n",
    "         - Rawpos\n",
    "         - Pos\n",
    "         - LFP\n",
    "  2. Figure out which animals are remote replay animals\n",
    "     - Load task structures (and why not cellinfo and tetinfo as well) for each animal and aggregate into a dictionary\n",
    "     - Arrange by epoch structure\n",
    "  2. Detect \"theta\" periods and \"potential events\" (LFP analysis, MUA analysis?)\n",
    "  3. Bin spikes for HMM training: list(numpy arrays NCell x Time)\n",
    "  4. \n"
   ]
  },
  {
   "cell_type": "code",
   "execution_count": null,
   "metadata": {
    "collapsed": true
   },
   "outputs": [],
   "source": []
  }
 ],
 "metadata": {
  "kernelspec": {
   "display_name": "Python 3",
   "language": "python",
   "name": "python3"
  },
  "language_info": {
   "codemirror_mode": {
    "name": "ipython",
    "version": 3
   },
   "file_extension": ".py",
   "mimetype": "text/x-python",
   "name": "python",
   "nbconvert_exporter": "python",
   "pygments_lexer": "ipython3",
   "version": "3.6.1"
  }
 },
 "nbformat": 4,
 "nbformat_minor": 1
}
