{
 "cells": [
  {
   "cell_type": "code",
   "execution_count": null,
   "metadata": {
    "collapsed": true
   },
   "outputs": [],
   "source": [
    "StackedRipEvents = []\n",
    "StackedRipTetrodes = []\n",
    "for e, ep in enumerate(ep_list):\n",
    "    # Stack all the rip events in preparation for counting overlaps\n",
    "    StackedRipEvents.append(RippleEvents[e][0].copy())\n",
    "    for k in range(1,len(TetrodeList)):\n",
    "        StackedRipEvents[e] = StackedRipEvents[e] if (RippleEvents[e][k].size == 0) else \\\n",
    "                    np.vstack((StackedRipEvents[e], RippleEvents[e][k]))\n",
    "\n",
    "    # Create a tetrode ID list for each event\n",
    "    StackedRipTetrodes.append([[tetidx] for tetidx, E in enumerate(RippleEvents[e]) for _ in range(len(E)) ])\n",
    "\n",
    "    # Now, sort events by start time\n",
    "    if (StackedRipEvents[e].size > 0):\n",
    "        sortidx = np.argsort(StackedRipEvents[e][:,0], axis=0)\n",
    "        StackedRipTetrodes[e] = [StackedRipTetrodes[e][i] for i in sortidx]\n",
    "        StackedRipEvents[e] = StackedRipEvents[e][sortidx,:]\n",
    "    else:\n",
    "        StackedRipEvents[e] = np.empty(shape=[0, 2])\n",
    "\n",
    "def event_union(r, s):\n",
    "    if ((r[1] < s[0]) | (s[1] < r[0])):\n",
    "        return np.array([])\n",
    "    else:\n",
    "        return np.array([np.min([r[0], s[0]]), np.max([r[1], s[1]])])\n",
    "\n",
    "RipEventList = []\n",
    "RipEventTetrodes = []\n",
    "for e in range(len(ep_list)):\n",
    "    if (StackedRipEvents[e].size > 0):\n",
    "        RipEventList.append(np.atleast_2d(StackedRipEvents[e][0,:]))\n",
    "        RipEventTetrodes.append([StackedRipTetrodes[e][0]])\n",
    "        for k, ev in enumerate(StackedRipEvents[e][1:,:]):\n",
    "            overlap = event_union(ev, RipEventList[e][-1])\n",
    "            if (overlap.size == 0):\n",
    "                RipEventList[e] = np.vstack((RipEventList[e],ev))\n",
    "                RipEventTetrodes[e].append([StackedRipTetrodes[e][k]])\n",
    "            else:\n",
    "                RipEventList[e][-1,:] = overlap\n",
    "                RipEventTetrodes[e][-1] += StackedRipTetrodes[e][k]\n",
    "    else:\n",
    "        RipEventList.append(np.empty(shape=[0, 2]))\n",
    "        RipEventTetrodes.append([])\n",
    "\n",
    "        \n",
    "RipEventList = [np.asarray(E) for E in RipEventList]\n",
    "NumRipTetrodes = [np.asarray([len(NT) for NT in E]) for E in RipEventTetrodes]\n",
    "\n",
    "Win = 0.015 # Require elevated power at least 15 ms (total over 3 tetrodes)\n",
    "\n",
    "# Select for at least 3 tetrodes\n",
    "RipEventList = [np.extract(E[:,1] - E[:,0] > np.round(FS[0]*Win) && NT > 2, E) for (E,NT) in \n",
    "                 zip(RipEventList, NumRipTetrodes)]\n"
   ]
  }
 ],
 "metadata": {
  "kernelspec": {
   "display_name": "Python [Root]",
   "language": "python",
   "name": "Python [Root]"
  },
  "language_info": {
   "codemirror_mode": {
    "name": "ipython",
    "version": 3
   },
   "file_extension": ".py",
   "mimetype": "text/x-python",
   "name": "python",
   "nbconvert_exporter": "python",
   "pygments_lexer": "ipython3",
   "version": "3.5.2"
  }
 },
 "nbformat": 4,
 "nbformat_minor": 0
}
